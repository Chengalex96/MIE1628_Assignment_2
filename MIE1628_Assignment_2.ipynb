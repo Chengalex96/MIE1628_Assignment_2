{
  "nbformat": 4,
  "nbformat_minor": 0,
  "metadata": {
    "colab": {
      "provenance": []
    },
    "kernelspec": {
      "name": "python3",
      "display_name": "Python 3"
    },
    "language_info": {
      "name": "python"
    }
  },
  "cells": [
    {
      "cell_type": "code",
      "source": [
        "pip install pyspark"
      ],
      "metadata": {
        "colab": {
          "base_uri": "https://localhost:8080/"
        },
        "id": "usu3M7pyldg3",
        "outputId": "5a072f79-eb33-4c2b-cf3f-be78d6965b19"
      },
      "execution_count": null,
      "outputs": [
        {
          "output_type": "stream",
          "name": "stdout",
          "text": [
            "Looking in indexes: https://pypi.org/simple, https://us-python.pkg.dev/colab-wheels/public/simple/\n",
            "Requirement already satisfied: pyspark in /usr/local/lib/python3.7/dist-packages (3.3.0)\n",
            "Requirement already satisfied: py4j==0.10.9.5 in /usr/local/lib/python3.7/dist-packages (from pyspark) (0.10.9.5)\n"
          ]
        }
      ]
    },
    {
      "cell_type": "markdown",
      "source": [
        "Question 1 - Even/Odd - integer.txt"
      ],
      "metadata": {
        "id": "yjKdgsoSmw9J"
      }
    },
    {
      "cell_type": "code",
      "execution_count": null,
      "metadata": {
        "id": "SSB6CgOdHGUB"
      },
      "outputs": [],
      "source": [
        "from pyspark.sql import SparkSession\n",
        "from pyspark.sql.types import *\n",
        "from pyspark.sql.functions import *"
      ]
    },
    {
      "cell_type": "code",
      "source": [
        "spark = SparkSession.builder.appName(\"Assignment2\").getOrCreate()\n",
        "spark.conf.set(\"spark.sql.shuffle.partitions\", 4)"
      ],
      "metadata": {
        "id": "nf_YLLW_5plR"
      },
      "execution_count": null,
      "outputs": []
    },
    {
      "cell_type": "code",
      "source": [
        "df_1 = spark.read.text(\"integer.txt\")"
      ],
      "metadata": {
        "id": "8pLDpDyilhTS"
      },
      "execution_count": null,
      "outputs": []
    },
    {
      "cell_type": "code",
      "source": [
        "even_count = df_1.filter(df_1.value % 2 == 0).count()\n",
        "odd_count = df_1.filter(df_1.value % 2 == 1).count()\n",
        "print(\"Number of even integers:\", even_count)\n",
        "print(\"Number of odd integers:\", odd_count)"
      ],
      "metadata": {
        "colab": {
          "base_uri": "https://localhost:8080/"
        },
        "id": "2OfMkPZmmbQH",
        "outputId": "b4e23390-3e5b-4b52-a212-594ef56bb2fc"
      },
      "execution_count": null,
      "outputs": [
        {
          "output_type": "stream",
          "name": "stdout",
          "text": [
            "Number of even integers: 514\n",
            "Number of odd integers: 496\n"
          ]
        }
      ]
    },
    {
      "cell_type": "markdown",
      "source": [
        "Question 2 - Salary Sum per Department - salary.txt"
      ],
      "metadata": {
        "id": "MkS86MUhm35C"
      }
    },
    {
      "cell_type": "code",
      "source": [
        "df_2 = spark.read.format(\"csv\").option(\"header\", False).option(\"sep\", \" \").load(\"salary-1.txt\")\n",
        "df_2 = df_2.withColumnRenamed(\"_c0\", \"Department\").withColumnRenamed(\"_c1\", \"Salary\")\n",
        "df_2 = df_2.withColumn(\"Salary\",col(\"Salary\").cast(IntegerType()))"
      ],
      "metadata": {
        "id": "yZA19vN0nMh6"
      },
      "execution_count": null,
      "outputs": []
    },
    {
      "cell_type": "code",
      "source": [
        "df_2.groupBy(\"Department\").sum().show()"
      ],
      "metadata": {
        "colab": {
          "base_uri": "https://localhost:8080/"
        },
        "id": "CtGqTfiHoApD",
        "outputId": "c717edc2-b55b-4bc7-c523-f93356f63617"
      },
      "execution_count": null,
      "outputs": [
        {
          "output_type": "stream",
          "name": "stdout",
          "text": [
            "+----------+-----------+\n",
            "|Department|sum(Salary)|\n",
            "+----------+-----------+\n",
            "|     Sales|    3488491|\n",
            "| Developer|    3221394|\n",
            "|        QA|    3360624|\n",
            "| Marketing|    3158450|\n",
            "|  Research|    3328284|\n",
            "+----------+-----------+\n",
            "\n"
          ]
        }
      ]
    },
    {
      "cell_type": "markdown",
      "source": [
        "Question 3 - MapReduce with Pyspark"
      ],
      "metadata": {
        "id": "6Wq_aXChoDWD"
      }
    },
    {
      "cell_type": "code",
      "source": [
        "spark.stop()"
      ],
      "metadata": {
        "id": "3n_hhA3qpv7T"
      },
      "execution_count": null,
      "outputs": []
    },
    {
      "cell_type": "code",
      "source": [
        "from pyspark import SparkContext\n",
        "sc = SparkContext().getOrCreate()\n",
        "spark = SparkSession(sc)"
      ],
      "metadata": {
        "id": "obflpV4cpk9-"
      },
      "execution_count": null,
      "outputs": []
    },
    {
      "cell_type": "code",
      "source": [
        "book = sc.textFile(\"shakespeare-2.txt\")\n",
        "counts = book.flatMap(lambda line: line.split(\" \")) \\\n",
        "             .map(lambda word: (word, 1)) \\\n",
        "             .reduceByKey(lambda a, b: a + b)"
      ],
      "metadata": {
        "id": "sF-eh5_Bo2l8"
      },
      "execution_count": null,
      "outputs": []
    },
    {
      "cell_type": "code",
      "source": [
        "counts.filter(lambda KeyValue: KeyValue[0]==\"Shakespeare\" or KeyValue[0]==\"why\" \\\n",
        "              or KeyValue[0]==\"Lord\" or KeyValue[0]==\"Library\" or KeyValue[0]==\"GUTENBERG\" \\\n",
        "              or KeyValue[0]==\"WILLIAM\" or KeyValue[0]==\"COLLEGE\" or KeyValue[0]==\"WORLD\").toDF().show()"
      ],
      "metadata": {
        "colab": {
          "base_uri": "https://localhost:8080/"
        },
        "id": "QvH7hAOyp5ST",
        "outputId": "52b97bf3-0f7f-49cd-ad3f-2109bb71fc4e"
      },
      "execution_count": null,
      "outputs": [
        {
          "output_type": "stream",
          "name": "stdout",
          "text": [
            "+-----------+---+\n",
            "|         _1| _2|\n",
            "+-----------+---+\n",
            "|Shakespeare| 22|\n",
            "|  GUTENBERG| 99|\n",
            "|    WILLIAM|115|\n",
            "|      WORLD| 98|\n",
            "|    COLLEGE| 98|\n",
            "|        why| 91|\n",
            "|       Lord|341|\n",
            "|    Library|  2|\n",
            "+-----------+---+\n",
            "\n"
          ]
        }
      ]
    },
    {
      "cell_type": "markdown",
      "source": [
        "Question 4 - Top 10 and Bottom 10 words"
      ],
      "metadata": {
        "id": "SjLxRyEs8wSp"
      }
    },
    {
      "cell_type": "code",
      "source": [
        "def lower_clean_str(x):\n",
        "  punc='!\"#$%&\\'()*+,-./:;<=>?@[\\\\]^_`{|}~'\n",
        "  lowercased_str = x.lower()\n",
        "  for ch in punc:\n",
        "    lowercased_str = lowercased_str.replace(ch, '')\n",
        "  return lowercased_str\n",
        "\n",
        "book_clean_lower = book.map(lower_clean_str)\n",
        "\n",
        "counts_clean_lower = book_clean_lower.flatMap(lambda line: line.split(\" \")) \\\n",
        "             .map(lambda word: (word, 1)) \\\n",
        "             .reduceByKey(lambda a, b: a + b)"
      ],
      "metadata": {
        "id": "ouiyFSnq83dD"
      },
      "execution_count": null,
      "outputs": []
    },
    {
      "cell_type": "code",
      "source": [
        "top = counts_clean_lower.toDF().orderBy('_2', ascending=False)\n",
        "top.limit(11).show() # 11 words to not include \" \""
      ],
      "metadata": {
        "colab": {
          "base_uri": "https://localhost:8080/"
        },
        "id": "U_dcWfxA87OI",
        "outputId": "963f3e96-be4a-464b-9999-ae22516f48bf"
      },
      "execution_count": null,
      "outputs": [
        {
          "output_type": "stream",
          "name": "stdout",
          "text": [
            "+----+------+\n",
            "|  _1|    _2|\n",
            "+----+------+\n",
            "|    |231840|\n",
            "| the| 13707|\n",
            "| and| 12948|\n",
            "|  of|  9371|\n",
            "|   i|  9095|\n",
            "|  to|  9079|\n",
            "|   a|  6682|\n",
            "| you|  6069|\n",
            "|  my|  5696|\n",
            "|  in|  5260|\n",
            "|that|  5234|\n",
            "+----+------+\n",
            "\n"
          ]
        }
      ]
    },
    {
      "cell_type": "code",
      "source": [
        "bottom = counts_clean_lower.toDF().orderBy('_2', ascending=True)\n",
        "bottom.limit(10).show()"
      ],
      "metadata": {
        "colab": {
          "base_uri": "https://localhost:8080/"
        },
        "id": "3RxZx6Vv9Mk0",
        "outputId": "1f4ddaa4-3ff7-4d4d-a79a-f34ad5e1e8d1"
      },
      "execution_count": null,
      "outputs": [
        {
          "output_type": "stream",
          "name": "stdout",
          "text": [
            "+------------+---+\n",
            "|          _1| _2|\n",
            "+------------+---+\n",
            "|workswilliam|  1|\n",
            "|    asterisk|  1|\n",
            "|    produced|  1|\n",
            "|        1994|  1|\n",
            "| cooperation|  1|\n",
            "|  guidelines|  1|\n",
            "|      cdroms|  1|\n",
            "|      online|  1|\n",
            "|implications|  1|\n",
            "|restrictions|  1|\n",
            "+------------+---+\n",
            "\n"
          ]
        }
      ]
    },
    {
      "cell_type": "markdown",
      "source": [
        "Part B - Movies"
      ],
      "metadata": {
        "id": "R4Jj5OA69RFC"
      }
    },
    {
      "cell_type": "code",
      "source": [
        "df_B = spark.read.format(\"csv\").option(\"header\", True).option(\"sep\", \",\").load(\"movies.csv\")\n",
        "# Convert values to integer\n",
        "df_B = df_B.withColumn(\"movieId\",col(\"movieId\").cast(IntegerType())).withColumn(\"rating\",col(\"rating\").cast(IntegerType())).withColumn(\"userId\",col(\"userId\").cast(IntegerType()))"
      ],
      "metadata": {
        "id": "67v-kksWsVJd"
      },
      "execution_count": null,
      "outputs": []
    },
    {
      "cell_type": "code",
      "source": [
        "df_B.show()"
      ],
      "metadata": {
        "colab": {
          "base_uri": "https://localhost:8080/"
        },
        "id": "DkfGKVv0xq2B",
        "outputId": "38fc745e-b322-4c75-d068-069b36a1a8a5"
      },
      "execution_count": null,
      "outputs": [
        {
          "output_type": "stream",
          "name": "stdout",
          "text": [
            "+-------+------+------+\n",
            "|movieId|rating|userId|\n",
            "+-------+------+------+\n",
            "|      2|     3|     0|\n",
            "|      3|     1|     0|\n",
            "|      5|     2|     0|\n",
            "|      9|     4|     0|\n",
            "|     11|     1|     0|\n",
            "|     12|     2|     0|\n",
            "|     15|     1|     0|\n",
            "|     17|     1|     0|\n",
            "|     19|     1|     0|\n",
            "|     21|     1|     0|\n",
            "|     23|     1|     0|\n",
            "|     26|     3|     0|\n",
            "|     27|     1|     0|\n",
            "|     28|     1|     0|\n",
            "|     29|     1|     0|\n",
            "|     30|     1|     0|\n",
            "|     31|     1|     0|\n",
            "|     34|     1|     0|\n",
            "|     37|     1|     0|\n",
            "|     41|     2|     0|\n",
            "+-------+------+------+\n",
            "only showing top 20 rows\n",
            "\n"
          ]
        }
      ]
    },
    {
      "cell_type": "markdown",
      "source": [
        "The data is sorted by user (labelled 0-29), in which they provide a rating (1-5) for a specific movie (labelled 1-99) and lists every movie they rated. "
      ],
      "metadata": {
        "id": "IsGCeUK7DGvQ"
      }
    },
    {
      "cell_type": "markdown",
      "source": [
        "Displaying the top 20 movies with the highest (most numbers of) rating"
      ],
      "metadata": {
        "id": "P986vBEh1VOB"
      }
    },
    {
      "cell_type": "code",
      "source": [
        "from pyspark.sql import functions as F\n",
        "movie_rating = df_B.drop('userId').withColumn(\"rating\",col(\"rating\").cast(IntegerType())).groupBy('movieId').agg(F.mean('rating'), F.count('rating'))\n",
        "movie_rating.orderBy('count(rating)', ascending=False).limit(20).show()"
      ],
      "metadata": {
        "colab": {
          "base_uri": "https://localhost:8080/"
        },
        "id": "9E42cbw1u_Ds",
        "outputId": "609943c8-c92d-409e-b573-2a3b60a8872d"
      },
      "execution_count": null,
      "outputs": [
        {
          "output_type": "stream",
          "name": "stdout",
          "text": [
            "+-------+------------------+-------------+\n",
            "|movieId|       avg(rating)|count(rating)|\n",
            "+-------+------------------+-------------+\n",
            "|      6|              1.45|           20|\n",
            "|     22|              2.05|           20|\n",
            "|     51|               2.0|           20|\n",
            "|     50|               1.8|           20|\n",
            "|     29|               2.4|           20|\n",
            "|     94| 2.473684210526316|           19|\n",
            "|     15|1.1578947368421053|           19|\n",
            "|     55|1.7894736842105263|           19|\n",
            "|     68|2.1578947368421053|           19|\n",
            "|      2|2.1052631578947367|           19|\n",
            "|     86|1.1666666666666667|           18|\n",
            "|     85|               2.0|           18|\n",
            "|     88|2.0555555555555554|           18|\n",
            "|     45|1.3333333333333333|           18|\n",
            "|     14|               1.5|           18|\n",
            "|     36|1.8333333333333333|           18|\n",
            "|     82| 1.411764705882353|           17|\n",
            "|     54|1.5294117647058822|           17|\n",
            "|     95|1.9411764705882353|           17|\n",
            "|      4|1.7647058823529411|           17|\n",
            "+-------+------------------+-------------+\n",
            "\n"
          ]
        }
      ]
    },
    {
      "cell_type": "markdown",
      "source": [
        "Displaying the top 15 users who provided the highest (most number of) ratings"
      ],
      "metadata": {
        "id": "wvRxjJ5x1auJ"
      }
    },
    {
      "cell_type": "code",
      "source": [
        "user_rating = df_B.drop('movieId').withColumn(\"rating\",col(\"rating\").cast(IntegerType())).groupBy('userId').agg(F.mean('rating'), F.count('rating'))\n",
        "user_rating.orderBy('count(rating)', ascending=False).limit(15).show()"
      ],
      "metadata": {
        "colab": {
          "base_uri": "https://localhost:8080/"
        },
        "id": "ov8p71EKuTmn",
        "outputId": "039e93dc-72e8-44c1-f403-96f6260745ed"
      },
      "execution_count": null,
      "outputs": [
        {
          "output_type": "stream",
          "name": "stdout",
          "text": [
            "+------+------------------+-------------+\n",
            "|userId|       avg(rating)|count(rating)|\n",
            "+------+------------------+-------------+\n",
            "|     6|1.4385964912280702|           57|\n",
            "|    14|1.7894736842105263|           57|\n",
            "|    22|2.1607142857142856|           56|\n",
            "|    11|2.2857142857142856|           56|\n",
            "|    12|1.8545454545454545|           55|\n",
            "|     4|1.5636363636363637|           55|\n",
            "|     7|1.6296296296296295|           54|\n",
            "|     9|1.7924528301886793|           53|\n",
            "|    23|2.1346153846153846|           52|\n",
            "|    24|1.8846153846153846|           52|\n",
            "|    18|1.7307692307692308|           52|\n",
            "|    28|              1.82|           50|\n",
            "|    26| 2.204081632653061|           49|\n",
            "|     1|1.5510204081632653|           49|\n",
            "|     5|1.7755102040816326|           49|\n",
            "+------+------------------+-------------+\n",
            "\n"
          ]
        }
      ]
    },
    {
      "cell_type": "markdown",
      "source": [
        "Split data set into train and test and use collaborative filtering approach, this will recommend movies based on similar users"
      ],
      "metadata": {
        "id": "4IipY2Sg1oqJ"
      }
    },
    {
      "cell_type": "code",
      "source": [
        "(training_1, test_1) = df_B.randomSplit([0.6, 0.4], seed=0)\n",
        "(training_2, test_2) = df_B.randomSplit([0.8, 0.2], seed=0)"
      ],
      "metadata": {
        "id": "SxanIknIvRFJ"
      },
      "execution_count": null,
      "outputs": []
    },
    {
      "cell_type": "code",
      "source": [
        "# From Lecture Notes - Lecture #4\n",
        "\n",
        "from pyspark.ml.recommendation import ALS\n",
        "from pyspark.ml.evaluation import RegressionEvaluator\n",
        "from pyspark.ml.tuning import ParamGridBuilder, CrossValidator, TrainValidationSplit\n",
        "\n",
        "als = ALS(userCol= \"userId\", itemCol= \"movieId\", ratingCol=\"rating\", coldStartStrategy = \"drop\")\n",
        "parameters=ParamGridBuilder().build() #Parameters left as default values for now\n",
        "\n",
        "# Evaluating using RMSE and MAE\n",
        "eval = RegressionEvaluator(metricName= \"rmse\", labelCol= \"rating\", predictionCol= \"prediction\")\n",
        "evalMAE = RegressionEvaluator(metricName= \"mae\", labelCol= \"rating\", predictionCol= \"prediction\")\n",
        "trainvs = TrainValidationSplit(estimator=als, estimatorParamMaps=parameters, evaluator=eval)\n",
        "trainvsMAE = TrainValidationSplit(estimator=als, estimatorParamMaps=parameters, evaluator=evalMAE)\n",
        "\n",
        "# Create model by fitting training data using RMSE and MAE\n",
        "model_1 = trainvs.fit(training_1)\n",
        "model_2 = trainvs.fit(training_2)\n",
        "model_1_MAE = trainvsMAE.fit(training_1)\n",
        "model_2_MAE = trainvsMAE.fit(training_2)\n",
        "\n",
        "# Create predictions based on different train/split percentages and evaluation metrics\n",
        "predictions_1 = model_1.transform(test_1)\n",
        "predictions_2 = model_2.transform(test_2)\n",
        "predictions_1_MAE = model_1_MAE.transform(test_1)\n",
        "predictions_2_MAE = model_2_MAE.transform(test_2)\n",
        "\n",
        "rmse_1 = eval.evaluate(predictions_1)\n",
        "rmse_2 = eval.evaluate(predictions_2)\n",
        "mae_1 = evalMAE.evaluate(predictions_1_MAE)\n",
        "mae_2 = evalMAE.evaluate(predictions_2_MAE)"
      ],
      "metadata": {
        "id": "5dbhKzOXve1p"
      },
      "execution_count": null,
      "outputs": []
    },
    {
      "cell_type": "code",
      "source": [
        "print(\"RMSE for 60/40 split:\", rmse_1)\n",
        "print(\"RMSE for 80/20 split:\", rmse_2)\n",
        "print(\"MAE for 60/40 split:\", mae_1)\n",
        "print(\"MAE for 80/20 split:\", mae_2)"
      ],
      "metadata": {
        "colab": {
          "base_uri": "https://localhost:8080/"
        },
        "id": "9ezMpITHvqzZ",
        "outputId": "9d68411d-915a-491f-8bdb-5eb931a208f7"
      },
      "execution_count": null,
      "outputs": [
        {
          "output_type": "stream",
          "name": "stdout",
          "text": [
            "RMSE for 60/40 split: 1.0250791320358963\n",
            "RMSE for 80/20 split: 0.9128798297678604\n",
            "MAE for 60/40 split: 0.7273204656601342\n",
            "MAE for 80/20 split: 0.6705189694960912\n"
          ]
        }
      ]
    },
    {
      "cell_type": "markdown",
      "source": [
        "MAE is Mean Absolute Error, it calculates the absolute distance between the dataset and its prediction on  a regression, and takes the average over all the observations. \n",
        "\n",
        "MSE is Mean Squared Error, similar to MAE but it squares the distance to take account of the negatives. Higher errors weight/contribute more to the scale, although you are provided units that are squared which may not always make sense.\n",
        "\n",
        "RMSE is Root Mean Squared Error, this returns the MSE error to the original unit by taking the square root, while still penalizing higher errors\n",
        "\n",
        "Which metrics works better depends on the scenario, RMSE works better at detecting outliers which may be more useful in this case since you do not want to recommend an outlier movie to a user (for example, a horror movie to a kid), there's also multiple movies being recommend to the user so the user will have multiple selections"
      ],
      "metadata": {
        "id": "CQ9T5Ry48guI"
      }
    },
    {
      "cell_type": "markdown",
      "source": [
        "![image.png](data:image/png;base64,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)"
      ],
      "metadata": {
        "id": "nr46giy73oMK"
      }
    },
    {
      "cell_type": "markdown",
      "source": [
        "![image.png](data:image/png;base64,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)"
      ],
      "metadata": {
        "id": "cqs3gVvy4ECn"
      }
    },
    {
      "cell_type": "markdown",
      "source": [
        "![image.png](data:image/png;base64,iVBORw0KGgoAAAANSUhEUgAAAYUAAAAyCAIAAAA8+VBmAAAYgUlEQVR4nO2dbVRTV7rH/zM2B3MT7A1qc9IO0BK0gF5jKiGIpZMBsUUdFRaRDjQuMV1ARoUugTs1jAXaktrhZQ3UmYC3UccoI+IF61WxUBxalSFCm8YqehWokI5JqoYqydWGOnM/BCS8BwlK6/ktPpB99tvZOfs5z8veOz/jBQpBQUFBMQX4+aPuAAUFBUUvlDyioKCYKlDyiIKCYqpAySMKCoqpAiWPKCgopgqUPKKgoJgqUPKIgoJiqvDEo+4AxU+Klcsj+Qt5j7oXU4V//etfj7oLU4V333vfmWyUPKJwGUwmM3XTxnff2z7egtSsdSE/aiFIySMKl7FYGGQ0mT49dfpRd4TixwrlP6JwGcHCoL37yx51Lyh+xFDyiMI1PPHEE8HCoNpP6h51Ryh+xFDyiMI1LA4WfvOPfzzqXlBMMn6pqiNHP6k+WpI4KdVT8ojCNQQLg86ebR7mAkeUlF+cu+qhd4hiMrhUJP1QZ4HJ0DQp1VP+7Akxf15A1OqpMtXeUYw7sOVCQoKD18a9NjBtmXynNIhuI2YRF848ml5NVZbJd0pf9GTYtMo18mOPujPjg5xLMm8btdpJqZySRxPijc2b1A/kwf0Rh2SHQygQWK3Wnp6egck1isQaIFVVHTJpLfPSClOEXh7dDQfauMv8fw732bZTebICzaQ16BpqFIns4spY4uqPTBgBiHzaAzcajoyWhRRn5cbzPJgEDE3qjJxKo9OVU/LowfHlcm9336bC2wBCFgs/O/0oxiFqrfeN4gqbPEkkasmVSjSCLHVWwBJgqssjIJxL0k0XJsfqGZ6obFU0lzOt8/h5DyEXbkxoCmWdryjFz5O4pjOyuSzA1pwvLdKBs0K+9dWFLEv3PSbOFUsLmwBB0vYNL84GCKYbg2ZoHs4w729os/ippuToEsTklkglualt0iKdk32k5NGDs3mj7GDFoUfdiynB4mDhm5lvPWhpkh/qxyLGUcDaWa+5AgCgf9vRxFqYwDA0Kgo0APxmMtBjedCOAAApVuSJUbVWXjmRWsZuhsf2sBpbJsfqGZakJUzt2+eI4hD+XYVE2iTeXp6UpGr5rqngPJEb4vnlO/XEtiiS/QuAnfUHmfB6+QaJ2ohU1c4QQC/enr7avWaDVGWMyT0sJTrO2+XLMvnOWFZNZsahAQpQQmhAd9sHRgCHai9E84QLlpHQOakijSCPZPnHI7ggaMQ0oKfH9kNfXpuls/FAfv6xVoe8AVuU+S+SvZm7mhVx2SeH1BeZpU4LZgGw3emBqSFTltf3RQiS3tkQOY8kAMB283LN7maf5PDvUmR5RgBILq582fcJGkED7vXYbA412puz6kpjMiucu1XX4ubm9jPgzN8b76c8nuMAgOvj48FitX/99YNWEBK3aQN/BnCnq8M0oixxn00yp9OIaQCAdr/XNpYYAZQVFSBVtcVqvKwDgAguSTd9OQGlQ7glK35W83uJTggjfmrxpkAvluXKZcJ7NkDoKyTZFYBQmp0YziVuWdzo5oqtmRUGkCszsmP8aDbgHjjMNoVEcRqI/AUJU/ND/MpEzGu6/cG85ff0HxX2DRDp7vbZ4YWClbbL5QpN7aoq4PgxUlYcOqtLs0dtBBmW7kf8owoRyWIeLuxUGQHQ3Yh7ptZea61GofRX5eTl3pJk1vY35EtajMfs8ueS9Q7A/PcgYFT7rp8R5JEyfbkSacqjkc9atXtjM3qVADIsPVceLsuf5Zb8Zr9N2FIoW14oyi1L5U+nEdOZ3kNrE8rj7JPwYvnyLer+dE507h8k825/XLxRdtIAcETynFS5lGZuzO+rvCQluoRMV+0LZ9suVw4oC4FclRWG7045d58uJ2PLGw2NA6yCx3McACyLCP94QsuOKjMOLDqcyGPSCXNdzqCX7UC4kbINcZE8jg8vnoMCAwBA4sm5Zzp7CAAiX+J6XDtXDWma9EyB6tK4OyKUbwojtO8UOWPtRUZzuw/UdMpi52BXaWdUWjDbCyATi7NWMTTvSHI0EG9XBgWj4lpqbuIC4weSzFpSrvrQ+3bDaQAQ+ZI0w/lRrR4XU19QiLCsZcSNi2cBgJwzm4GO2qQ9i/IiYdDUAsYjKhWAhDmeAOZJ1QfjLMaLR3NyasKyJB539NVVABDmw+6rAQCgLdpRr8xNyI6sza7uTWIQ01j89fKwOsVJRJAswNDupDDCqPH+aHI2cM/U2m+RGE/mn+sAmLyI+MGZeeT0ttYbAJ3hMfiSQJ4YwrnTYwMMHY4TCeLUWOE0XenGkpP2B8tQr6jQmdFjbK93zBb5tAeGlAWaFBf0uGt23lXmWrg+PgcODn29PXbjAGDJ4sUn/1Y/dr5RqMp8r84EMPjr5EmcUfK1VSszJWlq7W3Phet6d+2G+bCJG8azAODHf5plaKshowO974xfGIFMiBVwOppKnfM9eXS1nf4nl6SbtOWV1SeOHlbvKsCyzSIfoqMhRwPMiQ0ie1obyaR1Im9j8we1ANi0aTD8oxkAODySZTWed9ar4ir4JMtyTacFgBVebBiu1oPPI2d0GR3MKQ86Dfr6NXGStVJZSv6xVmAmnUCXqRoAyGAvluWaDonS+xJAW1jfOj1wtYzsSzh29nKX5ba1C+BvCQmgd2kOq5zv4cjyiO9HMgCT/iPHxJinZg6bOeapmSb9KbMV8CCjBlwRpieHPd2lvWwm0GU873hFGj6fYek8V+2YVtvVfU9/YcCMWxHwDA0wdX7W+5nkhQjn9P5v6e4a5d4mj9RNG48erx7mwmM2DgAYDAbJfurzLybqCNHkl1Tre0DzWZ2TOsYv3lwpz/iw2W3uCj4AIIBkmdsatABw6cq1Lnf/lBjUKh4g5slZI5yLlsYSJyX7/sKi6vl9PiBN+Y6yJvADvVgAR3SwTKXe7N+6R1FqWMH3phmu1hsBIJAzy2q8qAOApZ6cfqvnoSHxZqPb8g0AYXqIl1V35H0dBCTnjqnVQbs9edWEaUSvdBFK8/Iz/u12nxEtlPizYbz6zar5/g7Vlmvae3wDJfy+zxXbJGs2Fmk50iQR2VFb7GDKjc3I/mwByQHMnU0OXw+ZEBLABGztzfsH5uXPJW3G2taeBQDbw8vxQmriS2xzY7GRTIFV96WjUh/lQ04Dk/QTDgiGfN/T0TZAAnICyBlAv+ePjEmUeX/SoLkCfN9j1E+u03EkggSLinb8aWj64zYOAF6OCNd9dX7sfGPTVJB1dE5plK9nxKb0Bk3+qE6g2pL37np2AwB2yFbu6Euu2CZ5YI8M+Rue7zRjtXrsnPdJ8B7oA/JkuMOqVUsyqu4nMWnT+nxbUT4kTNqq6KRE8xUOm7hx8WxUahqKCqqGVjw5hHNJelf3rBSVEu6Efv/vsyuASE+W7Zv63Q65tO+Xn1RKincqu+8Bd9o/yss7gui570XlKVVuhP5KR8+80GSbdleOQ5H9l/UJUX6r+HBYlCRIy1lGq1dIC8fnzBtRHol92HA0GTg88espYn+azdS8+13VoHdImCezo65e+0wsAILBA+yKKJn0usj7jq40hx1aCZi+HfCsXLV2A0x2SFaZ8sJ53Zd1tfs1bUBJ8saBVS9lzwRgareXJUUbhJ5dp+1f4Z9Sksd1ry4iIjzs+ImaYS89VuNgZ9nSpZWHPxrhoigtPzZgloc3GN7xKtWytpMyxf4RsgKAQZW916dEyuOEp+e1xWaMNlGN2lMutlAjf0GiSzdQzSPD0rNSQkgmYdHuyeh1bEVkH9zib9wTm1I+xAd05Fznel9M6y27Si4X6pusd+wfuZuWBjBv665IQtay1MxnWBbjJV+hyGM8usPYcETyt2QvPsMgLLrStMwKA2APofyHaXdM+v75bI/bnfu2ZDqqZdXbJEP0/BqFbNDjXZm5ftQXXpPREBXCEQB9wxeZlSI0l6cUNgE8sYR7QV3Z4twdjCSPeAEkA+jxilQfjAQxncWkA1a95kjxbmVN6+DM0eRss/EQEGW2wNN9Btc+D0lJ+mofm1b1QcWqzfF0GPQDXQzaY19eFXCepREsT36oJz90ZYK1/XBeyo6B1vsqf08CsLFFB8tEzBksYhpgajiLMRBnqcTPjxlA7qyLyywd+fLvt/7uC+2Xx098PCj99Q3rZZtThysx1cYhOlcVNYc+RiZ01q99cxwW/iB8uT41Izqz6wvSx+dXMh76YH9gURKPwX81V9zYO6MeCiTnSRosXQNColGbk+e2vxfdEF8ZOy/4lzhUDiAshOsB25UbAPzIGV2tGkcfUPnuqgVbolWqcCsAY7M6U90kZArSVitVq5nWyy1mT/+EkItH3ta1rtWHClesMp4rdOnuY/FmKbctf3lD7PG4gNBfoaIMgOjF51mwtRns2tyN5kmxEbUm6z14cERAPQAyJjfB13RBx92QngGwF3L1FU5rnSPJI5EXGzA15axXaAGAG5+vSJgL8xdDhRHA9yNtpmr0vuo5Hp4AwIlOW+2Hi+UFh4x8OcmE9crlQd47XYEs/UrqhtWBvhwWg5gGMHzWbJK3aBQOzwQ5n80AurRKSWYdADKpWBlp0Y3pq6jIkU4wkpr7drZQEEiy2YPkkeil0OMnaszm4fw1U24cKjOlrrHjdvyx8M+lO1suDnYSL1kc3NGpd0kTfRgr3swP2JMVyubFp0afenMcS3snRgjrSVhaB9xL0lKvjupMTVTuVjos3SYAAC/0OVafxV0iXVkyqBatOlMycO5plClrlUNaK5KtcWnvAQDS8Gc7T8ibxNvTifv95Yd4sWDRnZtTWL56Lg1Yqc4ySnJcvii8q/suSLo9hLMiTczzmIHQcD/7NYv2b85XNII8inlqJmAz6/ue+Lb9Z1rF83jhsZICzRBZ95Kne2ftSQBaqw3Ak0+tAtw2x/KJ9oo8tRGI92QDeuMwKwfbjhTZtUdupEyWtMqPOcuTDzjMwwiSBfT724y2HyydF+2jGZu3R9CyPn33kEonzrrX4nZ+uOu77757OWLpsqXhju//WHFM1tvvDl/sJzcOdt7K3Or3/Fw+jzdUHi0NDztWPZxff0I05ShrVZkR3rzxLe11NeTZA8V1pyDe7suE6dQRu6IXyJkF6Pssbo60pDSKVrdSWuTappclpPNGCzMCNy+pS48OlNWc5n1F9acRnefLgEl3yP6oCEgO0GGoLC2qLAXIxOJdUSvTcKzAtf0FADDdWQCAYxmxDy7vho+vhc3zYgI3rzlYt14eTICgD4liA2KOx02D/T2sN1sBhjsnIlvMJzrqVKUG2L36MOkdNeEwubJY6lhHW7Uy/+y1IVWv8vOioy/WCACWb86d+gQAECfwNusmaRLu3VfW0dlZ/XENgMiXl91PX7I4+PMvtN9evz5sqZ/eOABY91qcXRnk8xcOvbokZPGx4yeGLfhJ9dFh/5xqVVO0s15vA43jtzjAmfwcacmRo6phbejh8F0lVxWO6XMzak81tSI6yJcBU9sR+5s5xoec5mBxG7o6r+q0jSPX8TAx6E5r2hC1aA4DhsvH7P0V+7AdY7LG6/pOnW4q728aXj/ikyzAarzcL4ATvEkAlltDlXPRQi9LZ7n9/4auWxvAYIUn+DD1tQX2N1uUnxcdlsuXHIwLMpjr8f3F4Rq+1u44Xcm5JBOwmFru96OiMM9+ZdMST+OZ9JHuyiX+o/MXWs78vXHJ4mDRL1+q//QzAL9euaJ4x59HyD4Fx8EF/qPgoKDfprwxL8B/4YL/IAiazda/Y/ZZb+9bt25/P2C1eD9LI1eO1fBodHSaLV3mirdLnPKDGro6r+puOyMXpLmHI31t9xget5zzJIcv8GbA/JV9PQH4cwdZ3JWKlMmIbNbszh8+YDImYQu8mOi60OvV4gWQDFhb+3elVOUlT1o4zyWLToaVRxJvNjBgfQTJeZI2fAUcHkkYT/TesPHmXQAsjxmmk0W9i1z5/iQT6DA4fm0rvNgM2nMk4KBwCjf4P93TUqZ29Imsfo4NwDhkDzQZs3kpu3WUffUT9x/ZOVZ9Ysni4BWvvFz/6WfBwqCrVzuuGUZwsU7FcXCB/+i3KW8AaGhsnOPLFSxa5Lg/ZmnYr/676vAE6x8eYWruqx6aPJnT/myn5YIqc40K4u3lSYMV/TaLBUy7y8+RGTQCuNndqxCFebJxr711Cu9ZnEknALO5164XebGB9vbJ35XCcp8O2x3zxCsazl4L55J0oHfNqx37BLPD3aQsL47r/UCu4Xrf6t+sYO62AjA0lCh6w0Nk2LMDNEagV+n1FmXJRX1rOoXS4i0hblq1Qu1oEkf7soHBJz+R/Bh53jqe7eKnD2Hvz9mm5rb2r/kLeSGLg3+9YvnQWFt/t37S43CmoRHACy/wHROXhocdqx7eWJsQnOi81EDzgZyHe2aIrtPcAyYrbFDybasNIKbzAPjG5YY+e39ekOJtSrW6/HC+hBxa2aPjptUGEEw+AG789hBv3F8RHp2lVB0sLy9ePwn95bMZ02A2TGyNPoDB+pE0//AKLvEEjQAwS5BbWWU4vVVaeAlA6d4qX9lK/nzJ8crYm7ryjDLw05W5ISRBpwE+uypDWmujUpSo+NacZNLtUDQBoixVqpAFgg6ALdxWddxUny4ragHC5pHdp5TFJkG8THl8C/AD0GPU1uUrdtb3zUJp8aGVvj93KNvfXxpBA9ClqX9AhXa8/PVgxe/f/M8Vka9cu2bo1A8TS3ocxqH966//784dPq//h9VmzZrlRhDd3d2ubkqQ9tYKt7rilNF2sQEg+aGe3aeaWkGKt2WtmuvhbjqanK6eSDCu+htjvD97YBgBqNu1T+iZHJx9vBK2HhsTMH/doAUQviGcXpuhjdgn9HN+s+hD4OSHB0I9XxfmVB3/wWb7JwPo6tToAIS9LmLWZGoiPwyduwhwdXxNQHKgr/4fF9T0M17gGKvzKQ4fKqfT6bJNqRPYwv6j553stxYLg36zbv316zcALH/l5dmzZv1l3yjLGx/gpDRBmjI94Er+2It6hXL1JmK3JPtkuLwk/FL2jYh9QnNxbOaRVzJU6xa4D1/G9Flu+o4LAOz2WsPSxIFRMX6GWhHSVRaV4hBA9hWKyLuXTuuMAPhyVV4oU7szNqMKiEtNu17+/ZoPl99RL08vH6O3Dw+uMJxta2nQGgDwsvbkhjJ7D36I35Jq/uv3q//rZVtZVIqrfwImPr8qgdWQIc2b+Okp1PlHY3Pg4CGS/dTjLIwAfP6FdrEwSLBokd1oDfuVaPsf8kcrMO6T0kjx9hThLfui3lHhiORSgVtr0UkAbOuVvzXErNlg09cfAXAiT/rAFqRWfbo9RBycTKr7trDF5RdL/IirtUtlReBEx73AhqnhkN0fXFZUwEkuSbVeUE0dYYT4/PyEebSOEyulRSBj1vLZMJw6bDfn9xcWkbLitLstpa7/PapYoQ+ttVbtkqOcqPP8x+bAwYo/fjDMbrXHioa/NwIQBC4CQKfT587xvXHz5mgF7CeleTEMjSXOnJQm3JIV79FcMNYCSN9VGaoP0sM8LVdO1wNAWVHB+TXzva0XzkxcLhhL9zYZvAVJ9w2G2QzinrX1XAMgSMqI5RP6aqXivjglf8Pzvdt6tio2LVU04aZdA8mgwdqubQSEUrmYR1yt3aG4L9zJeL6PpfXzirjUtHBXNsrfIvK92/yR0jULVyn9iMIpvr1+/WpH5wv8hQCCAheN4trvZTwnpZExuVtFzM4zRHh6xrCThUH6kDOYM0kW0x7m7Wqr61ujapcLpVWxaammgv8VOGOvjYhGseOkcqs0Vagp0gA4WKvhx/Ij5McjbJZvmovT8o5c6c8bP8fT0lp7ShYivzOqnvgQ2V/XvPBV3vLfVS3/p6WzUZky4NzE2ABP65Wahk3B6RYXrobkp24SEZrcbFctiqXkEYWz6L76avXKFb5cbpAgcP9fndBHnD0pLXrz6gDiB/gKQ3xHr/CH3qNKb56vv+91HiAXTtQ/uL0GANAU5uxX5KUpotfKK2EYbR9py1VT6AtRxe7NBRsf4dlTAzAeypaMuBbhYpspJGh1nru2ONlluwKXyWULzHszc1wXCaX82RTO8svQF7fJ39z1l73i6Oiota+OmT8sSy1/7mLGeoUWfnJVvn9bZhk9OfKizLX+1MjfqZJeIGw3mgs2OnGuY5xcFerp/oynB63HrDcaL5SnFLkgSk3hKij9iMJZzjZ//r3NJli0qM650yAHnZQW5J8Sc/VYpqv9qdXvS8dhLJQppK536FK4DEo/ohgHindyggIXJf5282MebaSYJKj4GsU40J37qqfnB0oYUUwSlL1GMQ6aP/+CQ7IfdS8ofrJQ9hoFBcVUgbLXKCgopgqUPKKgoJgqUPKIgoJiqkDJIwoKiqkCJY8oKCimCpQ8oqCgmCr8P3dpjQ9+ZTGyAAAAAElFTkSuQmCC)"
      ],
      "metadata": {
        "id": "OhmrA3-m4eHa"
      }
    },
    {
      "cell_type": "markdown",
      "source": [
        "Will use 80/20 split since it provided a lower RMSE value"
      ],
      "metadata": {
        "id": "v6iy0_Lf2CsT"
      }
    },
    {
      "cell_type": "code",
      "source": [
        "parameters_tuned=ParamGridBuilder()\\\n",
        ".addGrid(als.rank,[10, 50])\\\n",
        ".addGrid(als.maxIter, [10, 15])\\\n",
        ".addGrid(als.regParam, [0.01, 1.0])\\\n",
        ".build()\n",
        "\n",
        "cv = CrossValidator(estimator=als, estimatorParamMaps=parameters_tuned, evaluator=eval, numFolds=3) #Cross validation folds\n",
        "model_tuned_2 = cv.fit(training_2)\n",
        "best_model_2 = model_tuned_2.bestModel\n",
        "predictions_tuned_2 = best_model_2.transform(test_2) \n",
        "rmse_tuned_2 = eval.evaluate(predictions_tuned_2)"
      ],
      "metadata": {
        "id": "wQZPYp01v0jV"
      },
      "execution_count": null,
      "outputs": []
    },
    {
      "cell_type": "markdown",
      "source": [
        "numBlocks default is 10 - partition size\n",
        "\n",
        "Default rank is 10, rank is the number of hidden/latent factors in the model, size of feature vectors\n",
        "\n",
        "maxIter default is 10, number of iterations to run\n",
        "\n",
        "regParam default is 1.0, regularization parameter\n",
        "\n",
        "lambda default is 0.01, regularization parameter in ALS\n",
        "\n",
        "implicitprefs default is false which means it's using explicit feedback\n",
        "\n",
        "alpha default is 1.0, only used when implicit feedback is used"
      ],
      "metadata": {
        "id": "0UPAss6S4SPw"
      }
    },
    {
      "cell_type": "code",
      "source": [
        "print(\"RMSE for tuned 80/20 split:\", rmse_tuned_2)"
      ],
      "metadata": {
        "colab": {
          "base_uri": "https://localhost:8080/"
        },
        "id": "OHsYTOQ9wDtr",
        "outputId": "286a27bb-1d6a-4697-fd85-2168ea645586"
      },
      "execution_count": null,
      "outputs": [
        {
          "output_type": "stream",
          "name": "stdout",
          "text": [
            "RMSE for tuned 80/20 split: 1.192991649366354\n"
          ]
        }
      ]
    },
    {
      "cell_type": "markdown",
      "source": [
        "It seems that the tuned model gave a higher RMSE value compared to the default parameters, this might mean that our model is overfitting the hyperparameters to the training data. "
      ],
      "metadata": {
        "id": "sl38n4LWKM1Q"
      }
    },
    {
      "cell_type": "code",
      "source": [
        "# Listing the best hyperparameters\n",
        "print(\"Best Model Parameters:\")\n",
        "print(\"Rank:\", best_model_2._java_obj.parent().getRank())\n",
        "print(\"MaxIter:\", best_model_2._java_obj.parent().getMaxIter())\n",
        "print(\"RegParam:\", best_model_2._java_obj.parent().getRegParam())"
      ],
      "metadata": {
        "colab": {
          "base_uri": "https://localhost:8080/"
        },
        "id": "XaeaOR7k1xD2",
        "outputId": "a386798a-b4ca-4fb2-afb3-62975ecc3c64"
      },
      "execution_count": null,
      "outputs": [
        {
          "output_type": "stream",
          "name": "stdout",
          "text": [
            "Best Model Parameters:\n",
            "Rank: 50\n",
            "MaxIter: 15\n",
            "RegParam: 0.01\n"
          ]
        }
      ]
    },
    {
      "cell_type": "code",
      "source": [
        "user = spark.createDataFrame([\"10\",\"14\"], \"string\").toDF(\"userId\")\n",
        "recommendations = best_model_2.recommendForUserSubset(user,15)\n",
        "top_15_recommendations = recommendations\\\n",
        "    .withColumn(\"rec_exp\", explode(\"recommendations\"))\\\n",
        "    .select('userId', col(\"rec_exp.movieId\"), col(\"rec_exp.rating\"))\n",
        "top_15_recommendations.show(30)"
      ],
      "metadata": {
        "id": "StlemZYC1z8u",
        "colab": {
          "base_uri": "https://localhost:8080/"
        },
        "outputId": "c6b9caec-b739-4760-e5c8-827f1cf6f965"
      },
      "execution_count": null,
      "outputs": [
        {
          "output_type": "stream",
          "name": "stdout",
          "text": [
            "+------+-------+---------+\n",
            "|userId|movieId|   rating|\n",
            "+------+-------+---------+\n",
            "|    10|      2|3.9862168|\n",
            "|    10|     49|2.9929516|\n",
            "|    10|     25|2.9872494|\n",
            "|    10|     89|2.9810855|\n",
            "|    10|     42|2.9478023|\n",
            "|    10|     12|2.9046667|\n",
            "|    10|      0|2.8857148|\n",
            "|    10|     92| 2.746862|\n",
            "|    10|     81|2.2664208|\n",
            "|    10|     82| 2.100837|\n",
            "|    10|     16|1.9828173|\n",
            "|    10|     55|1.9712551|\n",
            "|    10|     58| 1.676159|\n",
            "|    10|     19|1.5580031|\n",
            "|    10|     53|1.5444444|\n",
            "|    14|     29|4.9799075|\n",
            "|    14|     76|4.9720674|\n",
            "|    14|     63|4.9576497|\n",
            "|    14|     72|3.9752908|\n",
            "|    14|     96|3.9670722|\n",
            "|    14|     62|3.9329147|\n",
            "|    14|     53|3.0333498|\n",
            "|    14|     69|2.9924703|\n",
            "|    14|     93| 2.975674|\n",
            "|    14|     67|2.9732895|\n",
            "|    14|     14|2.9582562|\n",
            "|    14|     31|2.9569626|\n",
            "|    14|     25|2.5066688|\n",
            "|    14|     52|2.4047182|\n",
            "|    14|     43| 2.313209|\n",
            "+------+-------+---------+\n",
            "\n"
          ]
        }
      ]
    }
  ]
}